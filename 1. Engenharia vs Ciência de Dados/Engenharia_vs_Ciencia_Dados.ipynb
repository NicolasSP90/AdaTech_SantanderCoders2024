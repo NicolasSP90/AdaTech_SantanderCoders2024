{
 "cells": [
  {
   "cell_type": "markdown",
   "metadata": {},
   "source": [
    "<h1 style=\"color:cornflowerblue\">Qual a Diferença entre Dados e Informações</h1>"
   ]
  },
  {
   "cell_type": "markdown",
   "metadata": {},
   "source": [
    "<h2>Dados e Informação</h2>\n",
    "<p>\n",
    "\n",
    "<li>Dados:<br>\n",
    "São elementos coletados e armazenados, de forma bruta, sem nenhum tipo de processamento e análise.<br>\n",
    "Podem ser tabelas, imagens, textos entre outros tipos de formatos.<br>\n",
    "<br>\n",
    "\n",
    "<li>Informação:<br>\n",
    "Dados processados e analisados, que geram valor, conhecimento e ajudam na tomada de decisão.<br>\n",
    "<br>\n",
    "\n",
    "Dessa forma, tem-se: Dados -> Processamento e Análise -> Informação<br>\n",
    "<br>\n",
    "Exemplo:<br>\n",
    "Fonte de dados 1: Registro de Vendas<br>\n",
    "Fonte de dados 2: Dados de Clientes<br>\n",
    "Após processamento e análise, a situação de vendas pode precisar se precisa ser investido ou não em alguma área específica; Qual o grupo de clientes estão comprando mais e quais não estão comprando e quais ações tomar.<br>\n",
    "</p>\n",
    "<br>"
   ]
  },
  {
   "cell_type": "markdown",
   "metadata": {},
   "source": [
    "<h2>Quais Profissionais Envolvidos nesse Mundo dos Dados?</h2>\n",
    "<p>\n",
    "\n",
    "<li>Engenheiro de Dados:<br>\n",
    "Coleta, organiza e prepara diferentes tipos de dados a partir de diferentes fontes de dados.<br>\n",
    "<br>\n",
    "\n",
    "<li>Cientista de Dados:<br>\n",
    "Desenvolve modelos estatísticos e algorítmos avançados para descobrir insights valiosos e prever tendências futuras.<br>\n",
    "<br>\n",
    "\n",
    "<li>Analista de Dados:<br>\n",
    "Usam ferramentas e técnicas para organizar, limpar e visualizar os dados de maneira clara e compreensível.<br>\n",
    "<br>\n",
    "\n",
    "<li>Engenheiro de MLOps:<br>\n",
    "Implementa e gerencia os modelos avançados (criados pelo cientista de dados), garantindo a melhor eficiência na operação do dia a dia.<br>\n",
    "<br>\n",
    "\n",
    "<li>Engenheiro de DevOps:<br>\n",
    "Suporta todos os profissionais na automação e facilitação dos processos e softwares.<br>\n",
    "<br>\n",
    "\n",
    "Para o exemplo anterior os times tem as seguintes responsabilidades (cada empresa com suas particularidades):\n",
    "<li>Engenheiro de Dados: Coleta, organiza e prepara os dados de registro de vendas e dados de clientes, além de ser responsável pela qualidade desses dados;\n",
    "<li>Cientista de Dados: Desenvolve um modelo estatístico para mostrar a tendência das vendas nos róximos meses para diversos cenários, e sugere ações a partir disso;\n",
    "<li>Analista de Dados: Cria um painel com informações sobre a situação das vendas no último ano até hoje e sugere ações a partir dessa análise;\n",
    "<li>Engenheiro de MLOps: Implementa um fluxo de trabalho para que o modelo estatístico, criado pelo cientista, atualize os seus resultados de forma automática;\n",
    "<li>Engenheiro de DevOps: Suporta o Analista de Dados a publicar o painel criado para que os resultados possam ser atualizados diariamente.\n",
    "</p>"
   ]
  },
  {
   "cell_type": "markdown",
   "metadata": {},
   "source": [
    "<h1 style=\"color:cornflowerblue\">O que faz um Engenheiro de Dados</h1>"
   ]
  },
  {
   "cell_type": "markdown",
   "metadata": {},
   "source": [
    "<h2>Quais as Principais Responsabilidades de um Engenheiro de Dados</h2>\n",
    "<p>\n",
    "\n",
    "<li>Ingestão de Dados:<br>\n",
    "Coleta de dados de diversas fontes, incluindo bancos de dados, APIs, sistemas externos entre outras fontes. Além disso, é necessário definir como a ingestão de dados será feita.<br>\n",
    "    <ul type=\"circle\">\n",
    "    <li>Ingestão por Lotes: Coleta de dados em lotes, geramente em intervalos pré-determinados (a cada hora/minuto/segundo/dia/etc.)\n",
    "    <li>Intestão por Streaming: Coleta de dados em tempo real, à medida que são gerados.\n",
    "    </ul>\n",
    "<br>\n",
    "\n",
    "<li>Limpeza e Preparação dos Dados:<br>\n",
    "Tratamento de dados para garantir a qualidade, consistência e integridade, utilizando técnicas como ETL (Extract (Ingestão), Transform (Manipulação), Load (Armazenamento / Disponibilização)) ou ELT (Extract (Ingestão), Load (Armazenamento / Disponibilização), Transform (Manipulação)).<br>\n",
    "<br>\n",
    "\n",
    "<li>Modelagem de Dados e Definição de Arquitetura de Dados:<br>\n",
    "Por exemplo, em uma base de dados de uma escola, podemos ter dados armazenados para os Alunos, os Cursos e os Professores. Cada entidade dessas vão ter características específicas que devem ser estruturadas e modeladas.<br>\n",
    "<br>\n",
    "\n",
    "<li>Definição de Arquitetura dos Dados: Entender, a partir das ferramentas disponíveis, qual o padrão de arquitetura que será realizada na empresa.<br>\n",
    "<br>\n",
    "\n",
    "<li>Gerenciamento e Governança de Dados: Quais dados estão disponíveis, quais pessoas/times tem acesso, quais as diretrizes de segurança, quais os processos de garantia da qualidade dos dados.<br>\n",
    "<br>\n",
    "\n",
    "<li>Documentação, Comunicação e Colaboração com Outros Times: A documentação garante padrão dos processos e do desenvolvimento. A comunicação deve ser clara e acertiva no próprio time e com os demais para garantir o correto desenvolvimento e a agilidade do processo.\n",
    "</p>"
   ]
  },
  {
   "cell_type": "markdown",
   "metadata": {},
   "source": [
    "<h1 style=\"color:cornflowerblue\">O que faz um Cientista de Dados</h1>"
   ]
  },
  {
   "cell_type": "markdown",
   "metadata": {},
   "source": [
    "<h2>Quais as Principais Responsabilidades de um Cientista de Dados?</h2>\n",
    "<p>\n",
    "\n",
    "<li>Análise Exploratória de Dados (EDA):<br>\n",
    "Utilizar os dados da empresa para produzir informação e insights de acordo com uma área em específico.<br>\n",
    "<br>\n",
    "\n",
    "<li>Desenvolvimento de Modelos (Estatísticos, Machine Learning, etc):<br>\n",
    "Para cada tipo de problema, quais seriam as melhores formas de abordar e tratar esse problema.<br>\n",
    "<br>\n",
    "\n",
    "<li>Integração dos Modelos Criados com Outros Sistemas:<br>\n",
    "É necessário que os modelos estejam conectado às bases para utilização dos dados, mas também para armazenar as informações resultantes (Feature Store).<br>\n",
    "<br>\n",
    "\n",
    "<li>Otimização de Desempenho:\n",
    "O cenário de dados é dinâmico. O contexto, as informações e as necessidades mudam e os próprios dados podem mudar de comportamento. É necessario constantemente verificar e otimizar os modelos, de modo a encontrar o ponto ótimo de maneira contínua.<br>\n",
    "<br>\n",
    "\n",
    "<li>Documentação, Comunicação e Colaboração com Outros Times: A documentação garante padrão dos processos e do desenvolvimento. A comunicação deve ser clara e acertiva no próprio time e com os demais para garantir o correto desenvolvimento e a agilidade do processo.\n",
    "</p>"
   ]
  },
  {
   "cell_type": "markdown",
   "metadata": {},
   "source": [
    "<h1 style=\"color:cornflowerblue\">Principais Desafios na Engenharia de Dados</h1>"
   ]
  },
  {
   "cell_type": "markdown",
   "metadata": {},
   "source": [
    "<h2>Quais os Principais Desafios de um Engenheiro de Dados</h2>\n",
    "<p>\n",
    "\n",
    "<li>Volume, Variedade e Velocidade no Processamento de Dados\n",
    "    <ul type=\"circle\">\n",
    "    <li>Volume: quantidade massiva de dados que precisam ser utilizados;\n",
    "    <li>Velocidade: A necessidade de velocidade para adquirir, armazenar e processar os dados;\n",
    "    <li>Variedade: Diversos tipos de dados no existentes no cenário: Estruturados, Não-Estruturados, Semi-Estruturados... Cada novo processo são tipos diferentes de dados;\n",
    "    </ul>\n",
    "<br>\n",
    "\n",
    "<li>Qualidade dos Dados:<br>\n",
    "Garantir a qualidade dos dados processados e preparados. É constituido pelos seguintes temas:\n",
    "    <ul type=\"circle\">\n",
    "    <li>Padronização\n",
    "    <li>Integridade\n",
    "    <li>Precisão\n",
    "    <li>Prontidão\n",
    "    <li>Consistência\n",
    "    <li>Conformindade\n",
    "    </ul>\n",
    "<br>\n",
    "\n",
    "<li>Manutenção e Monitoramento dos Processos:<br>\n",
    "Todos os processos devem ser mantidos e monitorados. Garante que todos os processos, sistemas e estruturas estejam sempre funcionais.<br>\n",
    "<br>\n",
    "\n",
    "<li>Segurança e Privacidade dos Dados:<br>\n",
    "Os dados são bens valiosos das pessoas e companias. Devem ser aplicadas soluções de governaça para evitar problemas de vazamento e utilização indevida dos dados. Deve-se destacar leis e exigências de segurança, como por exemplo a LGPD.<br>\n",
    "<br>\n",
    "\n",
    "<li>Escalabilidade e Tecnologias em Evolução:<br>\n",
    "Processos aplicados precisam ser visualizados considerando o crescimento da empresa e dos próprios processos. É precisa que o processo consiga evoluir e se aprimorar de maneira constante, assim como verificar a evolução contínua das tecnologias disponíveis.\n",
    "</p>"
   ]
  },
  {
   "cell_type": "markdown",
   "metadata": {},
   "source": [
    "<h1 style=\"color:cornflowerblue\">Principais Desafios na Ciência de Dados</h1>"
   ]
  },
  {
   "cell_type": "markdown",
   "metadata": {},
   "source": [
    "<h2>Quais os Principais Desafios de um Cientista de Dados</h2>\n",
    "<p>\n",
    "\n",
    "<li>Compreensão do Domínio:<br>\n",
    "É preciso estar com boa compreensão na situação em que estão incluídos. A compreensão do domínio é fundamental para a melhor implementação das entregas do time de Ciência de Dados.<br>\n",
    "<br>\n",
    "\n",
    "<li>Seleção e Escolha dos Modelos e Algorítmos:<br>\n",
    "Supervisionado, Não Supervisionado, Por Reforço, Algorítmos, Modelos. Quais as técnicas que melhor contribuem para a solução daquele problema. Muitas vezes alguns modelos precisam ser aplicados para poder afirmar quais são os melhores caminhos de decisão.<br>\n",
    "<br>\n",
    "\n",
    "<li>Interpretabilidade vs Precisão:<br>\n",
    "É necessário avaliar o quanto o modelo precisa ser preciso em sua resposta e o quanto é necessário realizar a explicação das decisões do modelo. Existem problemas que não é necessariamente importante saber o PORQUE do resultado, desde que a precisão do resultado seja alto (e vice-versa). Depende o quanto os fenômenos envolvidos precisam ser explicados e entendidos, além do resultado do modelo.<br>\n",
    "<br>\n",
    "\n",
    "<li>Escalabilidade e Infraestrutura:<br>\n",
    "A partir da solução encontrada, precisa-se avaliar a necessidade de escalar ela de maneira viável, além da infraestrutura que viabilizem isso.<br>\n",
    "<br>\n",
    "\n",
    "<li>Comunicação e Colaboração:<br>\n",
    "A comunicação direta, clara e acessível, permite um ambiente mais agil e fácil de produzir resultados.\n",
    "</p>\n"
   ]
  },
  {
   "cell_type": "markdown",
   "metadata": {},
   "source": [
    "<h1 style=\"color:cornflowerblue\">Principais Ferramentas Utilizadas pelo Engenheiro de Dados no Seu Dia a Dia</h1>"
   ]
  },
  {
   "cell_type": "markdown",
   "metadata": {},
   "source": [
    "<h2>Quais as Principais Ferramentas de um Engenheiro de Dados</h2>\n",
    "<p>\n",
    "<li>Linguagens de Programação:\n",
    "    <ul type=\"circle\">\n",
    "    <li>Python\n",
    "    <li>Scala\n",
    "    <li>SQL\n",
    "    </ul>\n",
    "\n",
    "<li>Plataformas de Big Data:\n",
    "    <ul type=\"circle\">\n",
    "    <li>Apache Hadoop\n",
    "    <li>Apache Spark\n",
    "    <li>Databricks\n",
    "    <li>Microsoft Fabric\n",
    "    <li>Snowflake\n",
    "    </ul>\n",
    "\n",
    "<li>Armazenamento de Dados:\n",
    "    <ul type=\"circle\">\n",
    "    <li>Bancos de Dados Relacionais: Oracle Database, PostgreSQL, SQLServer, SQLite, Teradata, MySQL, Acess, Apache Derby ...\n",
    "    <li>Banco de Dados Não Estruturados: MongoDB, Cassandra, AmazonnDynamoDB, neo4j, ApacheHBASE, RavenDB, redis, OrientDB, HyperTable-, CouchDB ...\n",
    "    <li>Banco de Dados em Nuvem: AmazonS3, AzureDataLake,SQLCloud, GoogleBigQuery, AzureCosmosDB... Salientando a utilização de conceitos de Data Warehouse, Data Lake e Data Lakehouse para armazenamento e processamento de dados semi-estruturados\n",
    "    </ul>\n",
    "\n",
    "<li>Orquestrador de Pipelines:\n",
    "    <ul type=\"circle\">\n",
    "    <li>Apache Airflow\n",
    "    <li>Azure Data Factory\n",
    "    <li>dagster\n",
    "    </ul>\n",
    "\n",
    "<li>Controle de Versão:\n",
    "    <ul type=\"circle\">\n",
    "    <li>Git\n",
    "    <li>Github\n",
    "    <li>GitLab\n",
    "    </ul>\n",
    "</p>"
   ]
  },
  {
   "cell_type": "markdown",
   "metadata": {},
   "source": [
    "<h1 style=\"color:cornflowerblue\">Principais Ferramentas Utilizadas pelo Cientista de Dados no Seu Dia a Dia</h1>"
   ]
  },
  {
   "cell_type": "markdown",
   "metadata": {},
   "source": [
    "<h2>Quais as Principais Ferramentas de um Cientista de Dados</h2>\n",
    "<p>\n",
    "<li>Linguatens de Programação:\n",
    "    <ul type=\"circle\">\n",
    "    <li>Python\n",
    "    <li>R\n",
    "    <li>SQL\n",
    "    </ul>\n",
    "\n",
    "<li>Ferramentas de Pré-Processamento de Dados:\n",
    "    <ul type=\"circle\">\n",
    "    <li>Pandas\n",
    "    <li>Numpy\n",
    "    <li>ApacheSpark\n",
    "    </ul>\n",
    "\n",
    "<li>Biblioteca de Estatística e Modelagem\n",
    "    <ul type=\"circle\">\n",
    "    <li>Scikit Learn\n",
    "    <li>TensorFlow\n",
    "    <li>Pytorch\n",
    "    </ul>\n",
    "\n",
    "<li>Biblioteca de Visualização de Dados\n",
    "    <ul type=\"circle\">\n",
    "    <li>matplotlib\n",
    "    <li>Seaborn\n",
    "    <li>Tableau/PowerBI\n",
    "\n",
    "<li>Controle de Versão:\n",
    "    <ul type=\"circle\">\n",
    "    <li>Git\n",
    "    <li>Github\n",
    "    <li>GitLab\n",
    "    </ul>\n",
    "</p>"
   ]
  },
  {
   "cell_type": "markdown",
   "metadata": {},
   "source": [
    "<h1 style=\"color:cornflowerblue\">Como é a Interação entre os Times de Ciência e Engenharia de Dados</h1>"
   ]
  },
  {
   "cell_type": "markdown",
   "metadata": {},
   "source": [
    "<h2>Funções e Responsabilidades</h2>\n",
    "<p>\n",
    "<li>Engenharia de Dados\n",
    "    <ul type=\"circle\">\n",
    "    <li>Coletar Dados\n",
    "    <li>Extrair Dados\n",
    "    <li>Garantir a Qualidade dos Dados\n",
    "    <li>Garantir a Disponibilidade dos Dados\n",
    "    </ul>\n",
    "\n",
    "<li>Ciência de Dados\n",
    "    <ul type=\"circle\">\n",
    "    <li>Utilizar os Dados\n",
    "    <li>Promover Insights\n",
    "    <li>Promover Informação\n",
    "    </ul>\n",
    "</p>\n",
    "\n",
    "<h2>Desafios Desse Ambiente Colaborativo</h2>\n",
    "<p>\n",
    "Ambos os times trabalham para o mesmo propósito, mesmo que com objetivos distindos. Pelo fato dos times trabalharem com expertises e conhecimentos distintos, a comunicação deve ser sempre avaliada para não gerar conflito. A documentação e estruturação dos processos também deve ser priorizada para permitir uma interação mais organizada e estruturada.\n",
    "</p>\n",
    "\n",
    "<h2>Benefícios da Comunicação Eficaz</h2>\n",
    "<li>Aceleração do Cliclo de Desenvolvimento\n",
    "<li>Elevação da Qualidade dos Serviços e Produtos Desenvolvidos\n",
    "</p>\n",
    "\n",
    "<h2>Boas Práticas</h2>\n",
    "<p>\n",
    "<li>Comunicação e Colaboração - Entender a particularidade dos times e das pessoas;\n",
    "<li>Estruturação de Padrões e Governança\n",
    "</p>"
   ]
  },
  {
   "cell_type": "markdown",
   "metadata": {},
   "source": [
    "<h1 style=\"color:cornflowerblue\">Quas são as Tendências e o Futuro da Engenharia de Dados e Ciência de Dados?</h1>"
   ]
  },
  {
   "cell_type": "markdown",
   "metadata": {},
   "source": [
    "<h2>Tendências e Futuro</h2>\n",
    "<p>\n",
    "<li>Computação em Núvem:<br>\n",
    "Traz flexibilidade e escalabilidade no processamento e armazenamento de dados, removendo requisitos locais de hardware. Existem desafios, como a segurança dos dados e perda de informação.<br>\n",
    "<br>\n",
    "\n",
    "<li>Democratização dos Dados:<br>\n",
    "As empresas tem trabalhado na esturura e análise dos dados. Atualmente o que tem sido discutido é a democratização dos dados, já que pessoas que não tem a bagagem técnica das equipes de dados precisam consumir esses dados, de forma simples e estruturada, para tomar decisões. Passa diretamente pela estruturação da governança de dados.<br>\n",
    "<br>\n",
    "\n",
    "<li>Generative AI:<br>\n",
    "A partir da inteligência artificial, produzir conteúdo. Esse tipo de abordagem deve evoluir e as equipes de dados vão ter que se adaptar para utilizar essa tecnologia.<br>\n",
    "<br>\n",
    "\n",
    "<li>Computação Quântica:<br>\n",
    "Utiliza a física e mecânica quântica para produzir um computador mais rápido em processamento. No mometo em que essa tecnologia ficar acessível, a evolução das soluções será extremamente mais rápido e abundante.<br>\n",
    "<br>\n",
    "\n",
    "<li>Interdisciplinaridade:<br>\n",
    "Hoje é fundamental os profissionais das áreas terem conhecimento das outras equipes qe trabalham em paralelo, até mesmo mesclando e se tornando áreas novas. No futuro as áreas podem ser dividir e novas especialidades e objetivos podem ser necessários para mover os profissionais.\n",
    "</p>"
   ]
  },
  {
   "cell_type": "markdown",
   "metadata": {},
   "source": []
  }
 ],
 "metadata": {
  "language_info": {
   "name": "python"
  }
 },
 "nbformat": 4,
 "nbformat_minor": 2
}
