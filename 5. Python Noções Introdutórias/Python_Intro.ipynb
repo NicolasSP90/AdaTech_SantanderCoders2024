{
 "cells": [
  {
   "cell_type": "markdown",
   "metadata": {},
   "source": [
    "<h1 style=\"color:cornflowerblue\">Python Noções Introdutórias</h1>"
   ]
  },
  {
   "cell_type": "markdown",
   "metadata": {},
   "source": [
    "<h2>Setup: Instalação | Configurações Iniciais</h2>\n",
    "<p>\n",
    "Python é uma linguagem para uso geral, ou seja, pode ser utilizada para uma gama muito grande de aplicações, automações, e etc...\n",
    "<li>Download Python\n",
    "    <ul>\n",
    "    <li>www.python.org\n",
    "    <li>baixar instalador\n",
    "    <li>adicionar PATH\n",
    "    <li>\n",
    "    </ul>\n",
    "\n",
    "<li>Download VSCode\n",
    "    <ul>\n",
    "    <li>Adicionar Path\n",
    "    <li>Adicionar \"Abrir com VSCode\"\n",
    "    <li>Instalar extensões para Python\n",
    "    </ul>\n",
    "</p>"
   ]
  },
  {
   "cell_type": "markdown",
   "metadata": {},
   "source": [
    "<h2>Entrada e Saída de Dados</h2>\n",
    "<p>\n",
    "Um algorítmo consiste de um conjunto de informações de entrada. Após esse processo ocorre um processamento para então ter a saída de dados processados.<br>\n",
    "<br>\n",
    "\n",
    "<li>print( )<br>\n",
    "Comando para \"imprimir\" um conteúdo na tela.<br>\n",
    "<br>\n",
    "\n",
    "\n",
    "<li>input( )<br>\n",
    "Comando que \"espera\" o usuário colocar um dado.<br>\n",
    "<br>\n",
    "\n",
    "</p>"
   ]
  },
  {
   "cell_type": "code",
   "execution_count": 1,
   "metadata": {},
   "outputs": [
    {
     "name": "stdout",
     "output_type": "stream",
     "text": [
      "Hello World\n"
     ]
    }
   ],
   "source": [
    "print(\"Hello World\")"
   ]
  },
  {
   "cell_type": "code",
   "execution_count": 3,
   "metadata": {},
   "outputs": [
    {
     "data": {
      "text/plain": [
       "'exemplo'"
      ]
     },
     "execution_count": 3,
     "metadata": {},
     "output_type": "execute_result"
    }
   ],
   "source": [
    "input()"
   ]
  },
  {
   "cell_type": "markdown",
   "metadata": {},
   "source": [
    "<h2>Variáveis</h2>\n",
    "<p>\n",
    "São armazenadores únicos para reutilização dos dados que são armazenados.<br>\n",
    "Para criar uma variável é necessário apenas atribuir um valor a ela a partir do código.<br>\n",
    "Lê-se \"variavel\" recebe o valor \"valor\". Ex: idade recebe o valor 20.<br>\n",
    "<br>\n",
    "\n",
    "Tipo de Variáveis:\n",
    "<li>int: número inteiro (sem parte decimal)\n",
    "<li>float: número real qualquer\n",
    "<li>str: texto\n",
    "<li>bool: Variável booleana (True ou False, 1 ou 0)<br>\n",
    "<br>\n",
    "\n",
    "Comentários:\n",
    "<li> # -> comentário de uma linha\n",
    "<li>\"\"\" texto \"\"\" -> comentátio de multiplas linhas\n",
    "\n",
    "<li>type(variável)<br>\n",
    "Exibe o tipo da variável<br>\n",
    "<br>\n",
    "\n",
    "</p>"
   ]
  },
  {
   "cell_type": "code",
   "execution_count": 6,
   "metadata": {},
   "outputs": [
    {
     "name": "stdout",
     "output_type": "stream",
     "text": [
      "Nícolas <class 'str'>\n",
      "1.95 <class 'float'>\n",
      "34 <class 'int'>\n",
      "True <class 'bool'>\n"
     ]
    },
    {
     "data": {
      "text/plain": [
       "'\\nAssim é um comentário \\nde diversas linhas\\n'"
      ]
     },
     "execution_count": 6,
     "metadata": {},
     "output_type": "execute_result"
    }
   ],
   "source": [
    "# Criando variáveis:\n",
    "idade = 34\n",
    "altura = 1.95\n",
    "nome = \"Nícolas\"\n",
    "estudando = True\n",
    "print(nome, type(nome))\n",
    "print(altura, type(altura))\n",
    "print(idade, type(idade))\n",
    "print(estudando, type(estudando))\n",
    "\n",
    "\"\"\"\n",
    "Assim é um comentário \n",
    "de diversas linhas\n",
    "\"\"\""
   ]
  },
  {
   "cell_type": "markdown",
   "metadata": {},
   "source": [
    "<h2>Operadores Aritméticos e Booleanos</h2>\n",
    "<p>\n",
    "Operadores Aritméticos:\n",
    "<li>Soma: +\n",
    "<li>Subtração: -\n",
    "<li>Multiplicação: *\n",
    "<li>Divisão: /\n",
    "<li>Divisão Inteira: //\n",
    "<li>Resto da Divisão: %\n",
    "<li>Potência: **<br>\n",
    "<br>\n",
    "\n",
    "Operadores Booleanos ou Lógicos:\n",
    "<li>> : maior que\n",
    "<li>>= : maior ou igual a\n",
    "<li>== : igual a\n",
    "<li>!= : diferente de\n",
    "<li>< : menor que\n",
    "<li><= : menor ou igual a\n",
    "\n",
    "</p>"
   ]
  },
  {
   "cell_type": "code",
   "execution_count": 7,
   "metadata": {},
   "outputs": [
    {
     "name": "stdout",
     "output_type": "stream",
     "text": [
      "30\n",
      "-10\n",
      "200\n",
      "0.5\n",
      "0\n",
      "10\n",
      "100000000000000000000\n"
     ]
    }
   ],
   "source": [
    "# Operadores Aritméticos\n",
    "\n",
    "num1 = 10\n",
    "num2 = 20\n",
    "\n",
    "print(num1 + num2)\n",
    "print(num1 - num2)\n",
    "print(num1 * num2)\n",
    "print(num1 / num2)\n",
    "print(num1 // num2)\n",
    "print(num1 % num2)\n",
    "print(num1 ** num2)\n"
   ]
  },
  {
   "cell_type": "code",
   "execution_count": 8,
   "metadata": {},
   "outputs": [
    {
     "name": "stdout",
     "output_type": "stream",
     "text": [
      "False\n",
      "False\n",
      "True\n",
      "False\n",
      "True\n",
      "True\n",
      "False\n",
      "True\n"
     ]
    }
   ],
   "source": [
    "# Operadores Booleanos ou Lógicos\n",
    "\n",
    "print(num1 > num2)\n",
    "print(num1 > num1)\n",
    "print(num1 >= num1)\n",
    "print(num1 == num2)\n",
    "print(num1 != num2)\n",
    "print(num1 < num2)\n",
    "print(num1 < num1)\n",
    "print(num1 <= num1)\n"
   ]
  },
  {
   "cell_type": "markdown",
   "metadata": {},
   "source": [
    "<h2>Conversão de Tipos</h2>\n",
    "<p>\n",
    "Python possui uma tipagem forte, ou seja, nao permite que o tipo de um dado seja tratado como outro tipo.<br>\n",
    "Ex1: 10 + \"10\" é a soma de um numero inteiro com um texto. Isso não pode ser realizado.<br>\n",
    "Ex2: \"10\" + \"20\" = \"1020\" -> em strings, os textos são concatenados.<br>\n",
    "<br>\n",
    "\n",
    "Se necessário, e possível, a variável pode ser convertida, ao chamar o novo tipo.<br>\n",
    "<br>\n",
    "\n",
    "É importante, ao declarar a variável, que se tome cuidado se é necesário declarar o tipo ou modos de lidar com o tipo da variável.\n",
    "</p>"
   ]
  },
  {
   "cell_type": "code",
   "execution_count": 12,
   "metadata": {},
   "outputs": [
    {
     "name": "stdout",
     "output_type": "stream",
     "text": [
      "<class 'str'>\n",
      "<class 'int'>\n",
      "<class 'float'>\n",
      "<class 'str'>\n"
     ]
    }
   ],
   "source": [
    "ntexto = \"10\"\n",
    "print(type(ntexto))\n",
    "print(type(int(ntexto)))\n",
    "print(type(1.95))\n",
    "print(type(str(1.95)))\n"
   ]
  },
  {
   "cell_type": "markdown",
   "metadata": {},
   "source": [
    "<h2>Estruturas Condicionais</h2>\n",
    "<p>\n",
    "Na área de Estruturas de Controle de Fluxo existem dois tipos de estrutura:\n",
    "<li>Estruturas condicionais\n",
    "<li>Laços de Repetição<br>\n",
    "<br>\n",
    "\n",
    "As estruturas condicionais definem se um determinado trecho de código vai ser executado ou não, baseado em uma condição predeterminada.\n",
    "\n",
    "<li>if CONDIÇÃO: if é uma palavra reservada do python. Se a condição for cumprida, o código \"entra\" naquele bloco de comandos;\n",
    "<li>elif CONDIÇÃO: Caso a condiçã if não seja cumprida, existe outra condição que deve ser checada. elif seria else if (senão)\n",
    "<li>else: caso nenhuma das condições anteriores seja cumprida, esse bloco de código é acionado.\n",
    "<br>\n",
    "\n",
    "</p>"
   ]
  },
  {
   "cell_type": "code",
   "execution_count": 19,
   "metadata": {},
   "outputs": [],
   "source": [
    "\"\"\"\n",
    "Caso o estudante tenha média superior ou igual a 7, imprimir \"Aprovado\".\n",
    "Caso seja menor que 7, \"Reprovado\"\n",
    "\"\"\"\n",
    "\n",
    "def nota_aprovacao(nota_media = None, presenca = None):\n",
    "    if nota_media == None:\n",
    "        nota_media = float(input(\"Informe a média: \"))\n",
    "    \n",
    "    if presenca == None:\n",
    "        presenca = float(input(\"Informe a presença nas aulas [em %]: \"))\n",
    "    \n",
    "    status = \"\"\n",
    "\n",
    "    if nota_media >= 7 and presenca >= 70:\n",
    "        status = \"Aprovado\"\n",
    "    \n",
    "    elif nota_media >= 5 and presenca >= 70:\n",
    "        status = \"em Recuperação\"\n",
    "    \n",
    "    else:\n",
    "        status = \"Reprovado\"\n",
    "    \n",
    "    print(f\"Aluno {status}!\")"
   ]
  },
  {
   "cell_type": "code",
   "execution_count": 20,
   "metadata": {},
   "outputs": [
    {
     "name": "stdout",
     "output_type": "stream",
     "text": [
      "Aluno em Recuperação!\n"
     ]
    }
   ],
   "source": [
    "nota_aprovacao()"
   ]
  },
  {
   "cell_type": "markdown",
   "metadata": {},
   "source": [
    "<h2>Laços de Repetição (\"While\")</h2>\n",
    "<p>\n",
    "Quando for necessário repetir um texto de código até que uma condição seja satisfeita.\n",
    "<li>While: repetição indefinida\n",
    "<li>For: repetição em um número controlado de vezes.\n",
    "\n",
    "</p>"
   ]
  },
  {
   "cell_type": "code",
   "execution_count": 35,
   "metadata": {},
   "outputs": [],
   "source": [
    "def randon_number(choosen = None):\n",
    "    import random\n",
    "\n",
    "    \n",
    "    rand_number = random.randint(1,10)\n",
    "\n",
    "    status = \"\"\n",
    "    if choosen == None:\n",
    "        choosen = int(input(\"Informar um número inteiro entre 1 e 10: \"))\n",
    "    \n",
    "    while choosen != rand_number:\n",
    "        choosen = int(input(\"Informar um número inteiro entre 1 e 10: \"))\n",
    "\n",
    "    \n",
    "\n",
    "    if rand_number == choosen:\n",
    "        status = \"Acertou\"\n",
    "    \n",
    "    else:\n",
    "        status = \"Errou\"\n",
    "    \n",
    "    print(f\"Número Escolhido: {choosen} - Número Aleatório {rand_number} - Status =  {status}\")"
   ]
  },
  {
   "cell_type": "code",
   "execution_count": 34,
   "metadata": {},
   "outputs": [
    {
     "name": "stdout",
     "output_type": "stream",
     "text": [
      "Número Escolhido: 10 - Número Aleatório 10 - Status =  Acertou\n"
     ]
    }
   ],
   "source": [
    "randon_number(5)"
   ]
  },
  {
   "cell_type": "markdown",
   "metadata": {},
   "source": [
    "<h2>Laços de Repetição (For)</h2>\n",
    "<p>\n",
    "\n",
    "Quando for necessário repetir um texto de código até que uma condição seja satisfeita.\n",
    "<li>While: repetição indefinida\n",
    "<li>For: repetição em um número controlado de vezes.\n",
    "\n",
    "\n",
    "\n",
    "</p>\n",
    "</p>"
   ]
  },
  {
   "cell_type": "code",
   "execution_count": 37,
   "metadata": {},
   "outputs": [
    {
     "name": "stdout",
     "output_type": "stream",
     "text": [
      "0\n",
      "1\n",
      "2\n",
      "3\n",
      "4\n",
      "5\n",
      "6\n",
      "7\n",
      "8\n",
      "9\n",
      "10\n",
      "1\n",
      "2\n",
      "3\n",
      "4\n",
      "5\n"
     ]
    }
   ],
   "source": [
    "# Exemplo de código\n",
    "for i in range(11):\n",
    "    print(i)\n",
    "\n",
    "for i in range(1,6,1):\n",
    "    print(i)"
   ]
  },
  {
   "cell_type": "code",
   "execution_count": 40,
   "metadata": {},
   "outputs": [],
   "source": [
    "def media_notas():\n",
    "    num_provas = 3\n",
    "    notas_lista = []\n",
    "\n",
    "    for i in range(1, num_provas+1, 1):\n",
    "        notas_lista.append(float(input(\"Informe a nota: \")))\n",
    "    \n",
    "    return sum(notas_lista) / num_provas"
   ]
  },
  {
   "cell_type": "code",
   "execution_count": 41,
   "metadata": {},
   "outputs": [
    {
     "data": {
      "text/plain": [
       "3.0"
      ]
     },
     "execution_count": 41,
     "metadata": {},
     "output_type": "execute_result"
    }
   ],
   "source": [
    "media_notas()"
   ]
  },
  {
   "cell_type": "markdown",
   "metadata": {},
   "source": [
    "<h2>Estrutura de Listas</h2>\n",
    "<p>\n",
    "A lista é uma estrutura de dados que pode armazenar dados distindos dentro dela.<br>\n",
    "A lista é um item indexado. Para acessar os elementos usar [] no final da variável com o indice da lista. \n",
    "<li>lista[0] - primeiro elemento\n",
    "<li>lista[-1] - último item\n",
    "<li>lista[0:3] -> fatia a lista e mostra os itens de indice 0 até 2 ( o endpoint maior não entra)\n",
    "</p>"
   ]
  },
  {
   "cell_type": "code",
   "execution_count": null,
   "metadata": {},
   "outputs": [],
   "source": [
    "# Variáveis:\n",
    "nota1 = 7.9\n",
    "nota2 = 9.7\n",
    "nota3 = 8.2\n",
    "\n",
    "# Lista\n",
    "notas = [7.9, 9.7, 8.2]\n",
    "\n",
    "# Lista Vazia\n",
    "lista_vazia = []\n",
    "lista_vazia = list()\n",
    "\n",
    "# lista de listas\n",
    "lita_listas = [[], []]"
   ]
  },
  {
   "cell_type": "markdown",
   "metadata": {},
   "source": [
    "<h2>Métodos e Funções de Listas</h2>\n",
    "<p>\n",
    "Método está sempre atrelado a uma variável.<br>\n",
    "Função é independente de variáveis.<br>\n",
    "</p>"
   ]
  },
  {
   "cell_type": "code",
   "execution_count": 13,
   "metadata": {},
   "outputs": [
    {
     "name": "stdout",
     "output_type": "stream",
     "text": [
      "[1, 3, 12, 8, 2, 3]\n",
      "[1, 3, 10, 12, 8, 2, 3]\n",
      "[1, 3, 10, 12, 8, 2, 3, 1, 2, 3]\n",
      "[1, 3, 10, 12, 8, 2, 3, 1, 2]\n",
      "[3, 10, 12, 8, 2, 3, 1, 2]\n",
      "[10, 12, 8, 2, 3, 1, 2]\n",
      "2\n",
      "1\n",
      "[1, 2, 2, 3, 8, 10, 12]\n",
      "[12, 10, 8, 3, 2, 2, 1]\n",
      "7\n",
      "38\n",
      "12\n",
      "1\n"
     ]
    }
   ],
   "source": [
    "lista = [1, 3, 12, 8, 2]\n",
    "\n",
    "# MÉTODOS PARA LISTA\n",
    "# append - adiciona um elemento no final\n",
    "lista.append(3)\n",
    "print(lista)\n",
    "\n",
    "# insert - adiciona um elemento no indice e empurra os demais\n",
    "lista.insert(2, 10)\n",
    "print(lista)\n",
    "\n",
    "# extend - junta uma segunda lista na primeira\n",
    "lista2 = [1,2,3]\n",
    "lista.extend(lista2)\n",
    "print(lista)\n",
    "\n",
    "# pop - remove o elemento no indice escolhido, ou o último se nenhum for passado\n",
    "lista.pop()\n",
    "print(lista)\n",
    "\n",
    "lista.pop(0)\n",
    "print(lista)\n",
    "\n",
    "# remove - remove o primeiro elemento informado\n",
    "lista.remove(3)\n",
    "print(lista)\n",
    "\n",
    "# count - conta quantas vezes o elemento aparece\n",
    "print(lista.count(2))\n",
    "\n",
    "# index - diz o indice de um elemento na lista\n",
    "print(lista.index(12))\n",
    "\n",
    "# sort - organiza a lista\n",
    "lista.sort()\n",
    "print(lista)\n",
    "\n",
    "lista.sort(reverse=True)\n",
    "print(lista)\n",
    "\n",
    "# FUNÇÕES PARA LISTA\n",
    "# len - quantidade de elementos\n",
    "print(len(lista))\n",
    "\n",
    "# sum - soma do valor de todos os elementos\n",
    "print(sum(lista))\n",
    "\n",
    "# max - retorna o valor máximo\n",
    "print(max(lista))\n",
    "\n",
    "# min - retorna o valor mínimo\n",
    "print(min(lista))"
   ]
  },
  {
   "cell_type": "markdown",
   "metadata": {},
   "source": [
    "<h2>Funções</h2>\n",
    "<p>\n",
    "Éum bloco de código que contém uma lógica que será utilizada diversas vezes.\n",
    "\n",
    "</p>"
   ]
  },
  {
   "cell_type": "code",
   "execution_count": 31,
   "metadata": {},
   "outputs": [
    {
     "name": "stdout",
     "output_type": "stream",
     "text": [
      "Seja bem-vindo\n",
      "Seja bem-vindo Nícolas\n",
      "Seja bem-vindo Nico\n"
     ]
    }
   ],
   "source": [
    "# Exemplo de função básica:\n",
    "def saudacao():\n",
    "    print(\"Seja bem-vindo\")\n",
    "\n",
    "saudacao()\n",
    "\n",
    "# Exemplo de função com parâmetros:\n",
    "def saudacao_nome(nome=None):\n",
    "    if nome == None:\n",
    "        nome = input(\"Digite seu nome: \")\n",
    "    print(f\"Seja bem-vindo {nome}\")\n",
    "\n",
    "saudacao_nome(\"Nícolas\")\n",
    "saudacao_nome()"
   ]
  },
  {
   "cell_type": "code",
   "execution_count": 32,
   "metadata": {},
   "outputs": [
    {
     "name": "stdout",
     "output_type": "stream",
     "text": [
      "Seja bem-vindo ao curso de Python, Nícolas!\n",
      "Seja bem-vindo ao curso de Java, Nico!\n"
     ]
    }
   ],
   "source": [
    "# Exemplo de função com parâmetros diversos:\n",
    "def saudacao_nome(nome=None, curso=None):\n",
    "    if nome == None:\n",
    "        nome = input(\"Digite seu nome: \")\n",
    "    \n",
    "    if curso == None:\n",
    "        curso = input(\"Digite seu curso: \")\n",
    "    print(f\"Seja bem-vindo ao curso de {curso}, {nome}!\")\n",
    "\n",
    "saudacao_nome(\"Nícolas\", \"Python\")\n",
    "saudacao_nome()"
   ]
  },
  {
   "cell_type": "code",
   "execution_count": 33,
   "metadata": {},
   "outputs": [
    {
     "name": "stdout",
     "output_type": "stream",
     "text": [
      "Nícolas\n",
      "Python\n"
     ]
    }
   ],
   "source": [
    "# Exemplo de função com retorno:\n",
    "def saudacao_nome(nome=None, curso=None):\n",
    "    if nome == None:\n",
    "        nome = input(\"Digite seu nome: \")\n",
    "    \n",
    "    if curso == None:\n",
    "        curso = input(\"Digite seu curso: \")\n",
    "    \n",
    "    return nome, curso\n",
    "\n",
    "pessoa, curso = saudacao_nome(\"Nícolas\", \"Python\")\n",
    "print(pessoa)\n",
    "print(curso)"
   ]
  },
  {
   "cell_type": "code",
   "execution_count": 34,
   "metadata": {},
   "outputs": [
    {
     "name": "stdout",
     "output_type": "stream",
     "text": [
      "30\n",
      "-10\n",
      "200\n",
      "0.5\n"
     ]
    }
   ],
   "source": [
    "# Função e Calculadora Simples\n",
    "def calculadora(num1, num2, operador=\"+\"):\n",
    "    if operador == \"+\":\n",
    "        return num1 + num2\n",
    "    \n",
    "    elif operador == \"-\":\n",
    "        return num1 - num2\n",
    "\n",
    "    elif operador == \"*\":\n",
    "        return num1 * num2\n",
    "\n",
    "    elif operador == \"/\":\n",
    "        return num1 / num2\n",
    "\n",
    "print(calculadora(10, 20))\n",
    "print(calculadora(10, 20, \"-\"))\n",
    "print(calculadora(10, 20, \"*\"))\n",
    "print(calculadora(10, 20, \"/\"))"
   ]
  },
  {
   "cell_type": "markdown",
   "metadata": {},
   "source": [
    "<h2>Dicionários</h2>\n",
    "<p>\n",
    "Semelhante a listas, mas com uma estrutura de chave e valor. Para acessar o valor, é necessário a chave.<br>\n",
    "Exatamente como um dicionário, é informada a palavra (chave) para encontrar seu significado (valor).\n",
    "</p>"
   ]
  },
  {
   "cell_type": "code",
   "execution_count": 42,
   "metadata": {},
   "outputs": [
    {
     "name": "stdout",
     "output_type": "stream",
     "text": [
      "{'nome': 'Nícolas', 'idade': 33, 'altura': 1.95}\n",
      "Nícolas\n",
      "{'nome': 'Nícolas', 'idade': 33, 'altura': 1.95, 'cargo': 'Engenheiro de Dados'}\n",
      "{'nome': 'Nícolas', 'idade': 33, 'altura': 1.95, 'cargo': 'Cientista de Dados'}\n",
      "nome\n",
      "Nícolas\n",
      "idade\n",
      "33\n",
      "altura\n",
      "1.95\n",
      "cargo\n",
      "Cientista de Dados\n",
      "False\n",
      "True\n"
     ]
    }
   ],
   "source": [
    "# Criando dicionário vazio\n",
    "dicionario = {}\n",
    "dicionario = dict()\n",
    "\n",
    "# Dicionário com valor\n",
    "dicionario = {\"nome\": \"Nícolas\", \"idade\":33, \"altura\": 1.95}\n",
    "print(dicionario)\n",
    "print(dicionario[\"nome\"])\n",
    "\n",
    "# Adicionar elemento\n",
    "dicionario[\"cargo\"] = \"Engenheiro de Dados\"\n",
    "print(dicionario)\n",
    "\n",
    "# Alterar valor\n",
    "dicionario[\"cargo\"] = \"Cientista de Dados\"\n",
    "print(dicionario)\n",
    "\n",
    "# Iterando sobre o dicionario\n",
    "for i in dicionario:\n",
    "    print(i)\n",
    "    print(dicionario[i])\n",
    "\n",
    "# Verificar se uma chave existe\n",
    "print(\"peso\" in dicionario)\n",
    "print(\"nome\" in dicionario)"
   ]
  },
  {
   "cell_type": "code",
   "execution_count": null,
   "metadata": {},
   "outputs": [],
   "source": []
  }
 ],
 "metadata": {
  "kernelspec": {
   "display_name": "Python 3",
   "language": "python",
   "name": "python3"
  },
  "language_info": {
   "codemirror_mode": {
    "name": "ipython",
    "version": 3
   },
   "file_extension": ".py",
   "mimetype": "text/x-python",
   "name": "python",
   "nbconvert_exporter": "python",
   "pygments_lexer": "ipython3",
   "version": "3.12.3"
  }
 },
 "nbformat": 4,
 "nbformat_minor": 2
}
