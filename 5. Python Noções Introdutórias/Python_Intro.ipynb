{
 "cells": [
  {
   "cell_type": "markdown",
   "metadata": {},
   "source": [
    "<h1 style=\"color:cornflowerblue\">Módulo</h1>"
   ]
  },
  {
   "cell_type": "markdown",
   "metadata": {},
   "source": [
    "<h2>Setup: Instalação | Configurações Iniciais</h2>\n",
    "<p>\n",
    "\n",
    "<li>\n",
    "    <ul>\n",
    "    <li>\n",
    "    </ul>\n",
    "</p>"
   ]
  },
  {
   "cell_type": "markdown",
   "metadata": {},
   "source": [
    "<h2>Entrada e Saída de Dados</h2>\n",
    "<p>\n",
    "\n",
    "<li>\n",
    "    <ul>\n",
    "    <li>\n",
    "    </ul>\n",
    "</p>"
   ]
  },
  {
   "cell_type": "markdown",
   "metadata": {},
   "source": [
    "<h2>Variáveis</h2>\n",
    "<p>\n",
    "\n",
    "<li>\n",
    "    <ul>\n",
    "    <li>\n",
    "    </ul>\n",
    "</p>"
   ]
  },
  {
   "cell_type": "markdown",
   "metadata": {},
   "source": [
    "<h2>Operadores Aritméticos e Booleanos</h2>\n",
    "<p>\n",
    "\n",
    "<li>\n",
    "    <ul>\n",
    "    <li>\n",
    "    </ul>\n",
    "</p>"
   ]
  },
  {
   "cell_type": "markdown",
   "metadata": {},
   "source": [
    "<h2>Conversão de Tipos</h2>\n",
    "<p>\n",
    "\n",
    "<li>\n",
    "    <ul>\n",
    "    <li>\n",
    "    </ul>\n",
    "</p>"
   ]
  },
  {
   "cell_type": "markdown",
   "metadata": {},
   "source": [
    "<h2>Exercícios de fixação I</h2>\n",
    "<p>\n",
    "\n",
    "<li>\n",
    "    <ul>\n",
    "    <li>\n",
    "    </ul>\n",
    "</p>"
   ]
  },
  {
   "cell_type": "markdown",
   "metadata": {},
   "source": [
    "<h2>Estruturas Condicionais</h2>\n",
    "<p>\n",
    "\n",
    "<li>\n",
    "    <ul>\n",
    "    <li>\n",
    "    </ul>\n",
    "</p>"
   ]
  },
  {
   "cell_type": "markdown",
   "metadata": {},
   "source": [
    "<h2>Laços de Repetição (\"While\")</h2>\n",
    "<p>\n",
    "\n",
    "<li>\n",
    "    <ul>\n",
    "    <li>\n",
    "    </ul>\n",
    "</p>"
   ]
  },
  {
   "cell_type": "markdown",
   "metadata": {},
   "source": [
    "<h2>Laços de Repetição (For)</h2>\n",
    "<p>\n",
    "\n",
    "<li>\n",
    "    <ul>\n",
    "    <li>\n",
    "    </ul>\n",
    "</p>"
   ]
  },
  {
   "cell_type": "markdown",
   "metadata": {},
   "source": [
    "<h2>Estrutura de Listas</h2>\n",
    "<p>\n",
    "\n",
    "<li>\n",
    "    <ul>\n",
    "    <li>\n",
    "    </ul>\n",
    "</p>"
   ]
  },
  {
   "cell_type": "markdown",
   "metadata": {},
   "source": [
    "<h2>Métodos e Funções de Listas</h2>\n",
    "<p>\n",
    "\n",
    "<li>\n",
    "    <ul>\n",
    "    <li>\n",
    "    </ul>\n",
    "</p>"
   ]
  },
  {
   "cell_type": "markdown",
   "metadata": {},
   "source": [
    "<h2>Exercícios de fixação II</h2>\n",
    "<p>\n",
    "\n",
    "<li>\n",
    "    <ul>\n",
    "    <li>\n",
    "    </ul>\n",
    "</p>"
   ]
  },
  {
   "cell_type": "markdown",
   "metadata": {},
   "source": [
    "<h2>Funções</h2>\n",
    "<p>\n",
    "\n",
    "<li>\n",
    "    <ul>\n",
    "    <li>\n",
    "    </ul>\n",
    "</p>"
   ]
  },
  {
   "cell_type": "markdown",
   "metadata": {},
   "source": [
    "<h2>Dicionários</h2>\n",
    "<p>\n",
    "\n",
    "<li>\n",
    "    <ul>\n",
    "    <li>\n",
    "    </ul>\n",
    "</p>"
   ]
  }
 ],
 "metadata": {
  "language_info": {
   "name": "python"
  }
 },
 "nbformat": 4,
 "nbformat_minor": 2
}
