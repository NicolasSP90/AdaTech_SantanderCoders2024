{
 "cells": [
  {
   "cell_type": "markdown",
   "metadata": {},
   "source": [
    "<h1 style=\"color:cornflowerblue\">Git e Versionamento</h1>"
   ]
  },
  {
   "cell_type": "markdown",
   "metadata": {},
   "source": [
    "<h2>O que é Git</h2>\n",
    "<p>\n",
    "Versionamento é o registro de mudanças em arquivos, que possibilita recuperação ou acesso a versões anteriores;<br>\n",
    "Desenvolvimento de código em colaboração com outros integrantes.<br>\n",
    "<br>\n",
    "O <b>Git</b> é um sistema de versionamento de código, que guarda os registros de versão do estado do projeto, além da referência/caminho do arquivo.<br>\n",
    "Seria relativo a guardar um snapshot (foto) do projeto aquele estado.<br>\n",
    "<br>\n",
    "A maioria das operações feitas pelo Git são locais e por isso boa parte das operações são praticamente instantâneas devido à facilidade de acessar arquivos em seu próprio computador.<br>\n",
    "O Git salva Hashs do projeto para vincular a versão e o estado dos arquivos salvos.\n",
    "</p>"
   ]
  },
  {
   "cell_type": "markdown",
   "metadata": {},
   "source": [
    "<h2>Instalando e Configurando o Git</h2>\n",
    "<p>\n",
    "<li>Git - Downloads e Documentação em: www.git-scm.com\n",
    "<li>Github - Download do Github Desktop. Mais limitado que o git, mas com uma interface gráfica\n",
    "<li>VSCode - Possui versionamento e extensões de Git<br>\n",
    "</p>\n",
    "<br>\n",
    "<p>Configurando o Git:\n",
    "<li>git config --global user.name \"NOME\" \n",
    "<li>git config --global user.email \"EMAIL\"<br>\n",
    "Dessa forma o Username e Email ficam configurados."
   ]
  },
  {
   "cell_type": "markdown",
   "metadata": {},
   "source": [
    "<h2>Repositório do Git</h2>\n",
    "<p>\n",
    "<li>Clonando um repositório para a máquina local:<br>\n",
    "Na página do repositório, ex: github, alguns métodos para clonar o projeto podem ser feitos. Para clonar pelo https, por exemplo, copia-se o link informado e no local em que o projeto seria armazenado (no prompt de comando ou git bash), escrever:<br>\n",
    "git clone \"sttph://link_do_repositório\"<br>\n",
    "Dessa forma, os arquivos e pastas do repositório serão clonados para o diretorio informado. Além disso, uma pasta chamada .git é feita com as informações e configurações do git do projeto.<br>\n",
    "<br>\n",
    "<li>Criar um Repositório:<br>\n",
    "Na pasta do projeto (vazia ou com os arquivos já, mas SEM versionamento), utilizar o comando:<br>\n",
    "git init<br>\n",
    "Dessa forma, é criado um repositório git e o projeto pode ser versionado.<br>\n",
    "</p>"
   ]
  },
  {
   "cell_type": "markdown",
   "metadata": {},
   "source": [
    "<h2>Gravando Mudanças no Repositório</h2>\n",
    "<p>\n",
    "O git possui 4 estados de arquivos:\n",
    "<li>Untracked: O git não rastreia o arquivo e as mudanças nele não são consideradas.\n",
    "<li>Unmodified: O arquivo está sendo rastreado, mas não sofreu alterações desde sua última versão.\n",
    "<li>Modified: O arquivo possui mudanças em relação a última versão.\n",
    "<li>Staged: O arquivo com mudanças (Modified) está pronto para ser versionado.<br>\n",
    "<br>\n",
    "\n",
    "A partir desses estados o git tem algumas ações básicas:\n",
    "<li>add: o arquivo após ser modificado (Modified) entra no estado de Staged, o que significa que está pronto para que a versão seja salva;\n",
    "<li>commit: a versão em Stage do arquivo é salva e ele se torna um arquivo \"Unmodified\", de acordo com a nova versão;\n",
    "<li>remove / ignore: as mudanças deixam de ser rastreadas (Untracked)<br>\n",
    "<br>\n",
    "\n",
    "Alguns comandos:\n",
    "<li>git status: retorna as branches utilizados, relação com o repositório remoto/local e mudanças nos estados dos arquivos.\n",
    "<li>git add .\\\"arquivo.extensão\": adiciona o arquivo ao estado de Staged"
   ]
  },
  {
   "cell_type": "markdown",
   "metadata": {},
   "source": [
    "<h2>Git Diff e Commit</h2>\n",
    "<p>\n",
    "<li>git diff: mostra exatamente as linhas modificadas no arquivo. - Comando para o repositório.\n",
    "<li>git diff --staged: mostra exatamente as linhas modificadas no arquivo. - Comando para arquivos Staged.\n",
    "<li>git commit -m \"Comentário\": salva o arquivo no estado de Staged como arquivo padrão da versão do projeto. No VSCode é possivel uma visualização na tela das mudanças.\n",
    "</p>\n"
   ]
  },
  {
   "cell_type": "markdown",
   "metadata": {},
   "source": [
    "<h2>Git Log e Restore</h2>\n",
    "<p>\n",
    "<li>git log: traz o histórico dos últimos commits realizados, junto com o autor, data e a hash de identificação.\n",
    "<li>git restore .\\\"arquivo.extensao\": retorna o arquivo para o estado anterior. Nesse caso seria a versão do último commit realizado.\n",
    "<li>git restore --staged .\\\"arquivo.extensao\": retorna o arquivo para o estado anterior. Nesse caso seria a versão Modified, mudando da área de Staged para Modified.\n",
    "</p>"
   ]
  },
  {
   "cell_type": "markdown",
   "metadata": {},
   "source": [
    "<h2>Repositórios Remotos</h2>\n",
    "<p>\n",
    "<li>git remote: verifica qual o repositório remoto vinculado (origin, por exemplo).\n",
    "<li>git push \"remote\" \"local\": envia o repositório local para o repositório remoto (normalmente é: git push origin master)\n",
    "<li>git pull: puxa o repositório remoto para o repositório local\n",
    "<li>git fetch: verifica as mudanças no repositório remoto \n",
    "<li>git diff \"remoto\"/\"local\": mostra as mudanças entre os arquivos remoto e local (git diff origin/master)\n",
    "</p>"
   ]
  },
  {
   "cell_type": "markdown",
   "metadata": {},
   "source": [
    "<h2>GitHub</h2>\n",
    "<p>\n",
    "Diferente do git que é um controlador de versão local, o github é uma plataforma que serve para hospedagem de códigos, repositorios e projetos para uso individual, da comunidade e de empresas.\n",
    "</p>"
   ]
  },
  {
   "cell_type": "markdown",
   "metadata": {},
   "source": [
    "<h2>Git Branch</h2>\n",
    "<p>\n",
    "O git possui um ponteiro (HEAD) que indica qual branch está sendo utilizada.\n",
    "<li>git branch: mostra em qual branch o projeto se encontra e quais as branches disponíveis\n",
    "<li>git branch \"NomedaRamificação\": Cria uma branch com um determinado nome.\n",
    "<li>git log --oneline --decorate: mostra em qual branch o projeto se encontra e quais as branches disponíveis e mais algumas informações.\n",
    "<li>git checkout \"NomedaRamificação\": Muda a branch para a de nome especificado\n",
    "</p>"
   ]
  },
  {
   "cell_type": "markdown",
   "metadata": {},
   "source": [
    "<h2>Merging Branches</h2>\n",
    "<p>\n",
    "Considerando que duas pessoas estão trabalhando em um projeto de modo que: \n",
    "<li>Pessoa 1: Branch master\n",
    "<li>Pessoa 2: Branch testing<br>\n",
    "<br>\n",
    "Primeiro o deve-se estar na branch que deve receber a outra branch (manter o HEAD na branch \"base\")<br>\n",
    "<li>git merge \"NomedaRamificaçãoparaTrazer\": inclui uma branch e mescla ela com a branch que está ativa.<br>\n",
    "<br>\n",
    "Existem modos de merge que lidam com alterações feitas no mesmo arquivo por duas pessaos diferentes, seja para manter e ignorar o que um dos dois fez, até manter ambas mudanças.\n",
    "</p>"
   ]
  },
  {
   "cell_type": "markdown",
   "metadata": {},
   "source": []
  }
 ],
 "metadata": {
  "language_info": {
   "name": "python"
  }
 },
 "nbformat": 4,
 "nbformat_minor": 2
}
