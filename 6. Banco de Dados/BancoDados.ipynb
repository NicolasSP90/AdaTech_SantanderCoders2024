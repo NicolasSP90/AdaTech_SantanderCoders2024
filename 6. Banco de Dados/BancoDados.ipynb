{
 "cells": [
  {
   "cell_type": "markdown",
   "metadata": {},
   "source": [
    "<h1 style=\"color:cornflowerblue\">Banco de dados</h1>"
   ]
  },
  {
   "cell_type": "markdown",
   "metadata": {},
   "source": [
    "<h2>Introdução ao Curso</h2>\n",
    "<p>\n",
    "\n",
    "<li>\n",
    "    <ul>\n",
    "    <li>\n",
    "    </ul>\n",
    "\n",
    "\n",
    "<li><br>\n",
    "<br>\n",
    "<br>\n",
    "\n",
    "</p>"
   ]
  },
  {
   "cell_type": "markdown",
   "metadata": {},
   "source": [
    "<h2>Tipos de Dados e Custo de Armazenamento</h2>\n",
    "<p>\n",
    "\n",
    "<li>\n",
    "    <ul>\n",
    "    <li>\n",
    "    </ul>\n",
    "\n",
    "\n",
    "<li><br>\n",
    "<br>\n",
    "<br>\n",
    "\n",
    "</p>"
   ]
  },
  {
   "cell_type": "markdown",
   "metadata": {},
   "source": [
    "<h2>Modelagem de Entidades</h2>\n",
    "<p>\n",
    "\n",
    "<li>\n",
    "    <ul>\n",
    "    <li>\n",
    "    </ul>\n",
    "\n",
    "\n",
    "<li><br>\n",
    "<br>\n",
    "<br>\n",
    "\n",
    "</p>"
   ]
  },
  {
   "cell_type": "markdown",
   "metadata": {},
   "source": [
    "<h2>Modelagem de Relacionamentos</h2>\n",
    "<p>\n",
    "\n",
    "<li>\n",
    "    <ul>\n",
    "    <li>\n",
    "    </ul>\n",
    "\n",
    "\n",
    "<li><br>\n",
    "<br>\n",
    "<br>\n",
    "\n",
    "</p>"
   ]
  },
  {
   "cell_type": "markdown",
   "metadata": {},
   "source": [
    "<h2>Normalização de Dados</h2>\n",
    "<p>\n",
    "\n",
    "<li>\n",
    "    <ul>\n",
    "    <li>\n",
    "    </ul>\n",
    "\n",
    "\n",
    "<li><br>\n",
    "<br>\n",
    "<br>\n",
    "\n",
    "</p>"
   ]
  },
  {
   "cell_type": "markdown",
   "metadata": {},
   "source": [
    "<h2>Exercícios de Fixação I</h2>\n",
    "<p>\n",
    "\n",
    "<li>\n",
    "    <ul>\n",
    "    <li>\n",
    "    </ul>\n",
    "\n",
    "\n",
    "<li><br>\n",
    "<br>\n",
    "<br>\n",
    "\n",
    "</p>"
   ]
  },
  {
   "cell_type": "markdown",
   "metadata": {},
   "source": [
    "<h2>Inserindo Tabelas no Banco</h2>\n",
    "<p>\n",
    "\n",
    "<li>\n",
    "    <ul>\n",
    "    <li>\n",
    "    </ul>\n",
    "\n",
    "\n",
    "<li><br>\n",
    "<br>\n",
    "<br>\n",
    "\n",
    "</p>"
   ]
  },
  {
   "cell_type": "markdown",
   "metadata": {},
   "source": [
    "<h2>Inserindo Dados no Banco</h2>\n",
    "<p>\n",
    "\n",
    "<li>\n",
    "    <ul>\n",
    "    <li>\n",
    "    </ul>\n",
    "\n",
    "\n",
    "<li><br>\n",
    "<br>\n",
    "<br>\n",
    "\n",
    "</p>"
   ]
  },
  {
   "cell_type": "markdown",
   "metadata": {},
   "source": [
    "<h2>Editando e Removendo Dados</h2>\n",
    "<p>\n",
    "\n",
    "<li>\n",
    "    <ul>\n",
    "    <li>\n",
    "    </ul>\n",
    "\n",
    "\n",
    "<li><br>\n",
    "<br>\n",
    "<br>\n",
    "\n",
    "</p>"
   ]
  },
  {
   "cell_type": "markdown",
   "metadata": {},
   "source": [
    "<h2>Permissionamento e Views</h2>\n",
    "<p>\n",
    "\n",
    "<li>\n",
    "    <ul>\n",
    "    <li>\n",
    "    </ul>\n",
    "\n",
    "\n",
    "<li><br>\n",
    "<br>\n",
    "<br>\n",
    "\n",
    "</p>"
   ]
  },
  {
   "cell_type": "markdown",
   "metadata": {},
   "source": [
    "<h2>Índices</h2>\n",
    "<p>\n",
    "\n",
    "<li>\n",
    "    <ul>\n",
    "    <li>\n",
    "    </ul>\n",
    "\n",
    "\n",
    "<li><br>\n",
    "<br>\n",
    "<br>\n",
    "\n",
    "</p>"
   ]
  },
  {
   "cell_type": "markdown",
   "metadata": {},
   "source": [
    "<h2>Exercícios de Fixação II</h2>\n",
    "<p>\n",
    "\n",
    "<li>\n",
    "    <ul>\n",
    "    <li>\n",
    "    </ul>\n",
    "\n",
    "\n",
    "<li><br>\n",
    "<br>\n",
    "<br>\n",
    "\n",
    "</p>"
   ]
  }
 ],
 "metadata": {
  "language_info": {
   "name": "python"
  }
 },
 "nbformat": 4,
 "nbformat_minor": 2
}
