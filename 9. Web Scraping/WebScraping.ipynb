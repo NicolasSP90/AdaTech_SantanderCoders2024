{
 "cells": [
  {
   "cell_type": "markdown",
   "metadata": {},
   "source": [
    "<h1 style=\"color:cornflowerblue\">Web Scraping</h1>"
   ]
  },
  {
   "cell_type": "markdown",
   "metadata": {},
   "source": [
    "<h2>Aula</h2>\n",
    "<p>\n",
    "\n",
    "<li>\n",
    "    <ul>\n",
    "    <li>\n",
    "    </ul>\n",
    "\n",
    "\n",
    "<li><br>\n",
    "<br>\n",
    "<br>\n",
    "\n",
    "</p>"
   ]
  },
  {
   "cell_type": "markdown",
   "metadata": {},
   "source": [
    "<h2>Aula</h2>\n",
    "<p>\n",
    "\n",
    "<li>\n",
    "    <ul>\n",
    "    <li>\n",
    "    </ul>\n",
    "\n",
    "\n",
    "<li><br>\n",
    "<br>\n",
    "<br>\n",
    "\n",
    "</p>"
   ]
  },
  {
   "cell_type": "markdown",
   "metadata": {},
   "source": [
    "<h2>Aula</h2>\n",
    "<p>\n",
    "\n",
    "<li>\n",
    "    <ul>\n",
    "    <li>\n",
    "    </ul>\n",
    "\n",
    "\n",
    "<li><br>\n",
    "<br>\n",
    "<br>\n",
    "\n",
    "</p>"
   ]
  },
  {
   "cell_type": "markdown",
   "metadata": {},
   "source": [
    "<h2>Aula</h2>\n",
    "<p>\n",
    "\n",
    "<li>\n",
    "    <ul>\n",
    "    <li>\n",
    "    </ul>\n",
    "\n",
    "\n",
    "<li><br>\n",
    "<br>\n",
    "<br>\n",
    "\n",
    "</p>"
   ]
  },
  {
   "cell_type": "markdown",
   "metadata": {},
   "source": [
    "<h2>Aula</h2>\n",
    "<p>\n",
    "\n",
    "<li>\n",
    "    <ul>\n",
    "    <li>\n",
    "    </ul>\n",
    "\n",
    "\n",
    "<li><br>\n",
    "<br>\n",
    "<br>\n",
    "\n",
    "</p>"
   ]
  },
  {
   "cell_type": "markdown",
   "metadata": {},
   "source": [
    "<h2>Aula</h2>\n",
    "<p>\n",
    "\n",
    "<li>\n",
    "    <ul>\n",
    "    <li>\n",
    "    </ul>\n",
    "\n",
    "\n",
    "<li><br>\n",
    "<br>\n",
    "<br>\n",
    "\n",
    "</p>"
   ]
  },
  {
   "cell_type": "markdown",
   "metadata": {},
   "source": [
    "<h2>Aula</h2>\n",
    "<p>\n",
    "\n",
    "<li>\n",
    "    <ul>\n",
    "    <li>\n",
    "    </ul>\n",
    "\n",
    "\n",
    "<li><br>\n",
    "<br>\n",
    "<br>\n",
    "\n",
    "</p>"
   ]
  },
  {
   "cell_type": "markdown",
   "metadata": {},
   "source": [
    "<h2>Aula</h2>\n",
    "<p>\n",
    "\n",
    "<li>\n",
    "    <ul>\n",
    "    <li>\n",
    "    </ul>\n",
    "\n",
    "\n",
    "<li><br>\n",
    "<br>\n",
    "<br>\n",
    "\n",
    "</p>"
   ]
  },
  {
   "cell_type": "markdown",
   "metadata": {},
   "source": [
    "<h2>Aula</h2>\n",
    "<p>\n",
    "\n",
    "<li>\n",
    "    <ul>\n",
    "    <li>\n",
    "    </ul>\n",
    "\n",
    "\n",
    "<li><br>\n",
    "<br>\n",
    "<br>\n",
    "\n",
    "</p>"
   ]
  },
  {
   "cell_type": "markdown",
   "metadata": {},
   "source": [
    "<h2>Aula</h2>\n",
    "<p>\n",
    "\n",
    "<li>\n",
    "    <ul>\n",
    "    <li>\n",
    "    </ul>\n",
    "\n",
    "\n",
    "<li><br>\n",
    "<br>\n",
    "<br>\n",
    "\n",
    "</p>"
   ]
  },
  {
   "cell_type": "markdown",
   "metadata": {},
   "source": [
    "<h2>Aula</h2>\n",
    "<p>\n",
    "\n",
    "<li>\n",
    "    <ul>\n",
    "    <li>\n",
    "    </ul>\n",
    "\n",
    "\n",
    "<li><br>\n",
    "<br>\n",
    "<br>\n",
    "\n",
    "</p>"
   ]
  }
 ],
 "metadata": {
  "language_info": {
   "name": "python"
  }
 },
 "nbformat": 4,
 "nbformat_minor": 2
}
