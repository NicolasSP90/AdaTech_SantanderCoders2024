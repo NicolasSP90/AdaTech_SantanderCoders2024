{
 "cells": [
  {
   "cell_type": "markdown",
   "metadata": {},
   "source": [
    "<h1 style=\"color:cornflowerblue\">Web Scraping</h1>"
   ]
  },
  {
   "cell_type": "markdown",
   "metadata": {},
   "source": [
    "<h2>O que é Web Scraping?</h2>\n",
    "<p>\n",
    "Web Scraping é a \"raspagem\" da web para extração de dados. Consiste em:\n",
    "<li>Analisar e extrair informações e extrair informações de páginas web\n",
    "<li>Dados não estruturados -> Scraping -> Dados estruturados\n",
    "<li>Automatizar/Simular interações de usuários<br>\n",
    "<br>\n",
    "\n",
    "\n",
    "<li>Quando USAR\n",
    "    <ul type=circle>\n",
    "    <li>Dados de mercado: valores de produtos, disponibilidade...\n",
    "    <li>Automação de tarefas web\n",
    "    <li>Análise de informações: páginas de notícia, blogs...\n",
    "    </ul><br>\n",
    "<br>\n",
    "\n",
    "<li>Quando NÃO USAR\n",
    "    <ul type=circle>\n",
    "    <li>Dados disponíveis via API\n",
    "    <li>Páginas com alteração constante\n",
    "    <li>Páginas que não permitem o uso de crawlers/scrapers\n",
    "    </ul><br>\n",
    "<br>\n",
    "\n",
    "\n",
    "Ética com Web Scrapping<br>\n",
    "Todo processo tem regras e neste caso não é diferente. Deve se atentar a:\n",
    "<li>Sobrecarga de Servidores - se o aplicativo constantemente busca em um servidor, deve-se cuidar para não sobrecarregar com aplicações e requisições para não prejudicar os demais usuários.\n",
    "<li>Leis de Privacidade: LGPD, GDPR, CCPA.\n",
    "<li>Direitos Autorais e Propriedade Intelectual\n",
    "<li>Equilíbrio entre Inovação e Respeito - Cuidados com transparência e responsabilidade e precauções com dados sensíveis.\n",
    "\n",
    "</p>"
   ]
  },
  {
   "cell_type": "markdown",
   "metadata": {},
   "source": [
    "<h2>Como está Estruturada uma Página Web?</h2>\n",
    "<p>\n",
    "\n",
    "<li>\n",
    "    <ul>\n",
    "    <li>\n",
    "    </ul>\n",
    "\n",
    "\n",
    "<li><br>\n",
    "<br>\n",
    "<br>\n",
    "\n",
    "</p>"
   ]
  },
  {
   "cell_type": "markdown",
   "metadata": {},
   "source": [
    "<h2>Como utilizar BeautifulSoup?</h2>\n",
    "<p>\n",
    "\n",
    "<li>\n",
    "    <ul>\n",
    "    <li>\n",
    "    </ul>\n",
    "\n",
    "\n",
    "<li><br>\n",
    "<br>\n",
    "<br>\n",
    "\n",
    "</p>"
   ]
  },
  {
   "cell_type": "markdown",
   "metadata": {},
   "source": [
    "<h2>Como Utilizar BeautifulSoup em Sites Reais?</h2>\n",
    "<p>\n",
    "\n",
    "<li>\n",
    "    <ul>\n",
    "    <li>\n",
    "    </ul>\n",
    "\n",
    "\n",
    "<li><br>\n",
    "<br>\n",
    "<br>\n",
    "\n",
    "</p>"
   ]
  },
  {
   "cell_type": "markdown",
   "metadata": {},
   "source": [
    "<h2>Como Utilizar Selenium?</h2>\n",
    "<p>\n",
    "\n",
    "<li>\n",
    "    <ul>\n",
    "    <li>\n",
    "    </ul>\n",
    "\n",
    "\n",
    "<li><br>\n",
    "<br>\n",
    "<br>\n",
    "\n",
    "</p>"
   ]
  },
  {
   "cell_type": "markdown",
   "metadata": {},
   "source": [
    "<h2>Como Localizar e Interagir com Elementos com Selenium I</h2>\n",
    "<p>\n",
    "\n",
    "<li>\n",
    "    <ul>\n",
    "    <li>\n",
    "    </ul>\n",
    "\n",
    "\n",
    "<li><br>\n",
    "<br>\n",
    "<br>\n",
    "\n",
    "</p>"
   ]
  },
  {
   "cell_type": "markdown",
   "metadata": {},
   "source": [
    "<h2>Como Localizar e Interagir com Elementos com Selenium II</h2>\n",
    "<p>\n",
    "\n",
    "<li>\n",
    "    <ul>\n",
    "    <li>\n",
    "    </ul>\n",
    "\n",
    "\n",
    "<li><br>\n",
    "<br>\n",
    "<br>\n",
    "\n",
    "</p>"
   ]
  },
  {
   "cell_type": "markdown",
   "metadata": {},
   "source": [
    "<h2>Como Lidar com Temas mais Complexos no Selenium?</h2>\n",
    "<p>\n",
    "\n",
    "<li>\n",
    "    <ul>\n",
    "    <li>\n",
    "    </ul>\n",
    "\n",
    "\n",
    "<li><br>\n",
    "<br>\n",
    "<br>\n",
    "\n",
    "</p>"
   ]
  },
  {
   "cell_type": "markdown",
   "metadata": {},
   "source": [
    "<h2>O que é Pandas e Como Pode nos Ajudar com Web Scraping?</h2>\n",
    "<p>\n",
    "\n",
    "<li>\n",
    "    <ul>\n",
    "    <li>\n",
    "    </ul>\n",
    "\n",
    "\n",
    "<li><br>\n",
    "<br>\n",
    "<br>\n",
    "\n",
    "</p>"
   ]
  },
  {
   "cell_type": "markdown",
   "metadata": {},
   "source": [
    "<h2>Projeto Final</h2>\n",
    "<p>\n",
    "\n",
    "<li>\n",
    "    <ul>\n",
    "    <li>\n",
    "    </ul>\n",
    "\n",
    "\n",
    "<li><br>\n",
    "<br>\n",
    "<br>\n",
    "\n",
    "</p>"
   ]
  }
 ],
 "metadata": {
  "language_info": {
   "name": "python"
  }
 },
 "nbformat": 4,
 "nbformat_minor": 2
}
