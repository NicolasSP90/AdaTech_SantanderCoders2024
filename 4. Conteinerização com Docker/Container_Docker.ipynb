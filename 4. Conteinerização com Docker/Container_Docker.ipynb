{
 "cells": [
  {
   "cell_type": "markdown",
   "metadata": {},
   "source": [
    "<h1 style=\"color:cornflowerblue\">Conteinerização com Docker</h1>"
   ]
  },
  {
   "cell_type": "markdown",
   "metadata": {},
   "source": [
    "<h2>Apresentação de containers e instalação do Docker</h2>\n",
    "<p>\n",
    "Conteiners são utilizados para isolar e otimizar aplicações e serviços, isolando-os em pequenos contextos que comunicam-se entre si. Podemos utilizar <b>Doccker</b> (Uma ferramenta para materializar os containers em nossos sistemas) para testar nossas aplicações e rodar workloads em produção, melhorando o formato de gerar novos recursos, dar manutenção, escalar, etc. <br>\n",
    "<br>\n",
    "Realizar o cadastro e instalação do docker, pode ser necessário realizar alguns procedimentos ou mesmo virtualizar a aplicação já que ela é nativa do linux e podem ter problemas no windows.<br>\n",
    "<br>\n",
    "Utilizar o comando \"docker --help\" no terminal de comando para verificar se a instalação está OK.Também pode ser verificada lista de comandos da tecnologia.<br>\n",
    "</p>"
   ]
  },
  {
   "cell_type": "markdown",
   "metadata": {},
   "source": [
    "<h2>Comandos do Docker</h2>\n",
    "<p>\n",
    "Forma de trazer interações, executar comando e executar ações. Linhas de comando são coisas comuns para poder interagir.<br>\n",
    "<br>\n",
    "Comandos são fundamentais para que possamos usufruir da ferramenta, permitindo que passemos instruções que serão executadas para que tudo funcione.<br>\n",
    "É necessária uma vertualização do linux no windows por não ser nativo. Na vídeo aula está sendo usado o WSL.<br>\n",
    "<li>docker --help<br>\n",
    "Lista de comandos que podem ser executados.<br>\n",
    "<br>\n",
    "<li>docker run -ti -p 8081:8081 nginx<br>\n",
    "Executa o docker e gera um terminal interativo (-ti), para poder criar coisas no container depois de criar.<br>\n",
    "-p é a porta 8081. Cuidar para que cada serviço esteja alocado em uma porta única.<br>\n",
    "O nginx é utilizada para rodar aplicações web e suas configurações.<br>\n",
    "Dessa forma a aplicação irá iniciar um o pull da imagem do container, vai fazer o donwload e será possível a utilização.<br>\n",
    "<br>\n",
    "\n",
    "<li>docker ps<br>\n",
    "Lita os conteiners criados.<br>\n",
    "<br>\n",
    "\n",
    "<li>docker ps -1<br>\n",
    "Lita os conteiners criados e verifica o status deles.<br>\n",
    "<br>\n",
    "\n",
    "<li>docker build<br>\n",
    "Cria a imagem baseado no arquivo dockerfile<br>\n",
    "<br>\n",
    "\n",
    "<li>docker build -t<br>\n",
    "Cria a imagem baseado no arquivo dockerfile. O -t gera uma Tag, ou seja, cria uma imagem com versão<br>\n",
    "<br>\n",
    "\n",
    "<li>docker build -t imagem_nome .<br>\n",
    "Cria a imagem baseado no arquivo dockerfile. <br>\n",
    "O -t gera uma Tag, ou seja, cria uma imagem com versão.<br>\n",
    "O nome da imagem é imagem_nome<br>\n",
    "O ponto significa que o docker file está na pasta que o terminal se encontra<br>\n",
    "<br>\n",
    "\n",
    "<li><br>\n",
    "<br>\n",
    "<br>\n",
    "\n",
    "<li><br>\n",
    "<br>\n",
    "<br>"
   ]
  },
  {
   "cell_type": "markdown",
   "metadata": {},
   "source": [
    "<h2>Imagens no Docker</h2>\n",
    "<p>\n",
    "É a base de tudo. A imagem é a série de configurações que geram o container. Essa série de instruções é o DOCKERFILE e a partir dele a imagem é gerada.<br>\n",
    "<br>\n",
    "Instuções Dockerfile:\n",
    "<li>FROM - Base de sistema operacional que pode ser customizado, mas que servirá de base para as demais configurações que iremos executar. Ex: FROM Ubuntu:versão\n",
    "<li>WORKDIR - Acessa um diretório;\n",
    "<li>ENV - Adiciona variáveis de ambiente;\n",
    "<li>RUN - Roda comandos em tempo de execução;\n",
    "<li>CMD - Roda comandos após o inicio do container, permitindo que o processo seja prioritário (caso usemos a instrução ENTRYPOINT, a prioridade será dele e o CMD será utilizado como argumento)\n",
    "</p>"
   ]
  },
  {
   "cell_type": "markdown",
   "metadata": {},
   "source": [
    "<h2>Criando Containers Através de imagens</h2>\n",
    "<p>\n",
    "<li>Imutabilidade:<br>\n",
    "O conceito de imutabilidade garante que o que está rodando na minha máquina roda na de qualquer um. Independente do sistema operacional, o conteúdo de uma imagem Docker deverá ser o mesmo.<br>\n",
    "Dessa forma a imagem, as bibliotecas e dependencias serão as mesmas."
   ]
  },
  {
   "cell_type": "markdown",
   "metadata": {},
   "source": [
    "<h2>Volumes</h2>\n",
    "<p>\n",
    "Containers são processos, ou seja, tem início, meio e fim. Se eles precisam ter uma vida prolongada, alguns recursos precisam ser criados.<br>\n",
    "<br>\n",
    "\n",
    "<li>Containers e Armazenamenot:\n",
    "Por padrão, containers não armazenam estado, sendo considerados efêmeros. Existem durante um determinado período de tempo apenas.<br>\n",
    "<br>\n",
    "\n",
    "<li>Volumes:\n",
    "Se tornam necessários para manter algumas informações mesmo após os containers deixarem de existir.\n",
    "    <ul>\n",
    "    <li>Docker Volume: Gerenciado pelo docker. Monta o diretório dentro do container.\n",
    "    <li>Docker Bind: É a forma mais antiga de armazenar conteúdo, porém é mais limitado que o docker volume. Faz um link entre o local e o container, criando o caminho absoluto dele, enquanto o volume cria um novo diretório no caimnho de armazenamento do docker.\n",
    "    <li>tmpfs: Armazenamento temporáro para recursoso com dados sennsíveis, por exemplo.    \n",
    "\n",
    "\n",
    "\n",
    "\n",
    "<li>\n",
    "    <ul>\n",
    "    <li>\n",
    "    </ul>\n",
    "</p>"
   ]
  },
  {
   "cell_type": "markdown",
   "metadata": {},
   "source": [
    "<h2>Redes</h2>\n",
    "<p>\n",
    "\n",
    "<li>\n",
    "    <ul>\n",
    "    <li>\n",
    "    </ul>\n",
    "</p>"
   ]
  },
  {
   "cell_type": "markdown",
   "metadata": {},
   "source": [
    "<h2>Ecossistema de Containers</h2>\n",
    "<p>\n",
    "\n",
    "<li>\n",
    "    <ul>\n",
    "    <li>\n",
    "    </ul>\n",
    "</p>"
   ]
  },
  {
   "cell_type": "markdown",
   "metadata": {},
   "source": [
    "<h2>Docker Compose: O Que É?</h2>\n",
    "<p>\n",
    "\n",
    "<li>\n",
    "    <ul>\n",
    "    <li>\n",
    "    </ul>\n",
    "</p>"
   ]
  },
  {
   "cell_type": "markdown",
   "metadata": {},
   "source": [
    "<h2>Docker Compose na Prática</h2>\n",
    "<p>\n",
    "\n",
    "<li>\n",
    "    <ul>\n",
    "    <li>\n",
    "    </ul>\n",
    "</p>"
   ]
  },
  {
   "cell_type": "markdown",
   "metadata": {},
   "source": [
    "<h2>Conclusão, Benefícios e Orquestradores</h2>\n",
    "<p>\n",
    "\n",
    "<li>\n",
    "    <ul>\n",
    "    <li>\n",
    "    </ul>\n",
    "</p>"
   ]
  }
 ],
 "metadata": {
  "language_info": {
   "name": "python"
  }
 },
 "nbformat": 4,
 "nbformat_minor": 2
}
